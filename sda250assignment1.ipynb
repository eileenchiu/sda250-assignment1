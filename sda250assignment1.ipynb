{
 "cells": [
  {
   "cell_type": "code",
   "execution_count": null,
   "id": "51c62962-0576-4902-b22e-0341b4c6fce9",
   "metadata": {
    "jupyter": {
     "source_hidden": true
    }
   },
   "outputs": [],
   "source": [
    "nltk.download()"
   ]
  },
  {
   "cell_type": "code",
   "execution_count": null,
   "id": "f50b5740-5ff3-459b-8e5b-360aca90afe0",
   "metadata": {},
   "outputs": [],
   "source": [
    "from nltk.book  \n",
    "import numpy\n",
    "import matplotlib\n",
    "\n",
    "from nltk.probability import FreqDist"
   ]
  },
  {
   "cell_type": "code",
   "execution_count": null,
   "id": "7c772669-75e5-476e-b24b-e319076cf760",
   "metadata": {},
   "outputs": [],
   "source": [
    "from nltk.corpus import PlaintextCorpusReader\n",
    "corpus_root = \"/Users/eileen/Desktop/\"\n",
    "subcorpus = PlaintextCorpusReader(corpus_root, '.*')\n",
    "\n",
    "article_words = subcorpus.words('sda250 article text')"
   ]
  },
  {
   "cell_type": "code",
   "execution_count": null,
   "id": "f34e395d-88b4-49c4-bfc3-0cb7841105f6",
   "metadata": {},
   "outputs": [],
   "source": [
    "len(article_words)"
   ]
  },
  {
   "cell_type": "code",
   "execution_count": null,
   "id": "d751e775-8950-4643-bb85-1469f0a06e5e",
   "metadata": {},
   "outputs": [],
   "source": [
    "def lexical_diversity(text):\n",
    "    return len(set(text)) / len(text)"
   ]
  },
  {
   "cell_type": "code",
   "execution_count": null,
   "id": "774ba1ac-6d03-4767-9192-1ff3b46d48aa",
   "metadata": {},
   "outputs": [],
   "source": [
    "lexical_diversity(article_words)"
   ]
  },
  {
   "cell_type": "code",
   "execution_count": null,
   "id": "fea017c1-cf1c-43b1-a966-64f8a716794d",
   "metadata": {},
   "outputs": [],
   "source": [
    "article_words_lowerCase = [w.lower() for w in article_words if w.isalpha()]\n",
    "\n",
    "article_words_unique = set(article_words_lowerCase)"
   ]
  },
  {
   "cell_type": "code",
   "execution_count": null,
   "id": "f370fe3c-4ff2-4455-ad0d-0d80c9952649",
   "metadata": {},
   "outputs": [],
   "source": [
    "\n",
    "fdist = FreqDist(article_words_lowerCase)"
   ]
  },
  {
   "cell_type": "code",
   "execution_count": null,
   "id": "ce0366cb-5ba7-48cd-8201-aef7d36a4081",
   "metadata": {},
   "outputs": [],
   "source": [
    "i = 1\n",
    "for word in article_words_unique:\n",
    "        if len(word) >= 10:\n",
    "            long_count = article_words_lowerCase.count(word)\n",
    "            print(\"Word\" + str(i) + \":\", word + \",\", \"Length:\", str(len(word)) + \",\", \"Count:\", long_count)\n",
    "            i += 1"
   ]
  },
  {
   "cell_type": "code",
   "execution_count": null,
   "id": "435b1c52-18f4-4f44-88f2-d3fa500707aa",
   "metadata": {},
   "outputs": [],
   "source": [
    "article_sentences = subcorpus.sents('sda250 article text.txt')\n",
    "\n",
    "sents_noPunct = [[word for word in sentence if word.isalpha()] for sentence in article_sentences]\n",
    "\n",
    "longest_sent_length = max(len(s) for s in sents_noPunct)\n",
    "\n",
    "longest_sent_length"
   ]
  },
  {
   "cell_type": "code",
   "execution_count": null,
   "id": "b0cb2d69-c24a-4ebf-96c2-86d8feb99425",
   "metadata": {},
   "outputs": [],
   "source": [
    "i = 0\n",
    "for s in sents_noPunct: \n",
    "    if len(s) == longest_sent_length:\n",
    "        break\n",
    "    else:\n",
    "        i += 1\n",
    "\n",
    "article_sentences[i]"
   ]
  },
  {
   "cell_type": "code",
   "execution_count": null,
   "id": "875feba7-0bcd-4b96-b2cf-a7c6a1ede452",
   "metadata": {},
   "outputs": [],
   "source": [
    "porter = nltk.PorterStemmer()"
   ]
  },
  {
   "cell_type": "code",
   "execution_count": null,
   "id": "cf4858a9-38d0-44d1-8c55-27d2815cb1e8",
   "metadata": {},
   "outputs": [],
   "source": [
    "stemmed_sentence = [porter.stem(w) for w in article_sentences[i]]"
   ]
  },
  {
   "cell_type": "code",
   "execution_count": null,
   "id": "4cd50822-29db-4a3f-b48e-5d6881b269b6",
   "metadata": {},
   "outputs": [],
   "source": [
    "stemmed_sentence"
   ]
  },
  {
   "cell_type": "code",
   "execution_count": null,
   "id": "9fb3391f-9e75-4428-99ba-51f10d61d513",
   "metadata": {},
   "outputs": [],
   "source": []
  }
 ],
 "metadata": {
  "kernelspec": {
   "display_name": "Python 3 (ipykernel)",
   "language": "python",
   "name": "python3"
  },
  "language_info": {
   "codemirror_mode": {
    "name": "ipython",
    "version": 3
   },
   "file_extension": ".py",
   "mimetype": "text/x-python",
   "name": "python",
   "nbconvert_exporter": "python",
   "pygments_lexer": "ipython3",
   "version": "3.12.4"
  }
 },
 "nbformat": 4,
 "nbformat_minor": 5
}
